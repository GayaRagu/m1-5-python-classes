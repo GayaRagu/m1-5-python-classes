{
 "cells": [
  {
   "cell_type": "markdown",
   "metadata": {
    "colab_type": "text",
    "id": "NRgJX0AHXweG"
   },
   "source": [
    "# Exercises\n",
    "\n",
    "## 1. Warmup: Triangle class\n",
    "\n",
    "Create a class called `Triangle`. \n",
    "\n",
    "* The `__init__()` method should take self, angle1, angle2, and angle3 as arguments. Make sure to set these appropriately in the body of the __init__()method.\n",
    "\n",
    "* Create a **class variable** variable named number_of_sides and set it equal to 3.\n",
    "\n",
    "* Create a method named `check_angles` calculating True if the sum of a triangle's three angles is is equal 180, and False otherwise.\n",
    "\n",
    "* Create a variable named `my_triangle` and set it equal to a new instance of your `Triangle` class. Pass it three angles that sum to 180 (e.g. 90, 30, 60).\n",
    "Print out `my_triangle.number_of_sides` and print out `my_triangle.check_angles()`.\n",
    "\n",
    "```python\n",
    "t1 = Triangle(60, 60, 60)\n",
    "t1.check_angles() --> True\n",
    "\n",
    "t2 = Triangle(70, 60, 60)\n",
    "t2.check_angles() --> False\n",
    "```"
   ]
  },
  {
   "cell_type": "code",
   "execution_count": 1,
   "metadata": {},
   "outputs": [],
   "source": [
    "class Triangle():\n",
    "    def __init__(self, angle1, angle2, angle3):\n",
    "        self.number_of_sides = 3\n",
    "        self.angle1=angle1\n",
    "        self.angle2=angle2\n",
    "        self.angle3=angle3\n",
    "        \n",
    "    def check_angles(self):\n",
    "        return (self.angle1+self.angle2+self.angle3)==180"
   ]
  },
  {
   "cell_type": "code",
   "execution_count": 2,
   "metadata": {},
   "outputs": [
    {
     "name": "stdout",
     "output_type": "stream",
     "text": [
      "3\n",
      "True\n"
     ]
    }
   ],
   "source": [
    "# Test Scenarios & print result \n",
    "\n",
    "my_triangle = Triangle(90,30,60)\n",
    "print(my_triangle.number_of_sides)\n",
    "print(my_triangle.check_angles())"
   ]
  },
  {
   "cell_type": "code",
   "execution_count": 3,
   "metadata": {},
   "outputs": [
    {
     "name": "stdout",
     "output_type": "stream",
     "text": [
      "3\n",
      "True\n"
     ]
    }
   ],
   "source": [
    "my_triangle = Triangle(60,60,60)\n",
    "print(my_triangle.number_of_sides)\n",
    "print(my_triangle.check_angles())"
   ]
  },
  {
   "cell_type": "code",
   "execution_count": 4,
   "metadata": {},
   "outputs": [
    {
     "name": "stdout",
     "output_type": "stream",
     "text": [
      "3\n",
      "False\n"
     ]
    }
   ],
   "source": [
    "my_triangle = Triangle(70,60,60)\n",
    "print(my_triangle.number_of_sides)\n",
    "print(my_triangle.check_angles())"
   ]
  },
  {
   "cell_type": "markdown",
   "metadata": {
    "colab_type": "text",
    "id": "VYTlzrmJguZS"
   },
   "source": [
    "## 2.Making Natural Numbers from sets\n",
    "One way to make the natural numbers from the cardinality operation ($|A|$ or `len(A)` in python). \n",
    "\n",
    "Define $A = \\{all\\ possible\\ sets\\}$ That is, $A$ is the set of all sets. \n",
    "\n",
    "Then, the set $\\mathbb{N} = \\{ x : |x| \\forall x \\in A\\}$. \n",
    "\n",
    "Take some time to parse out the math above. $\\mathbb{N}$ is the set of natural numbers. The upside down \"A\" symbol means \"for all\" -- this is another structure that translates to a python for loop:\n",
    "\n",
    "\n",
    "```natural_numbers = {len(x) for x in A}```\n",
    "\n",
    "**Exercise:** Make a `SetNumber` class subclassing python's `set` to generate the natural numbers. It should have:\n",
    "\n",
    "* Addition (`__add__`) and substraction (`__sub__`) defined on other python `sets` objects.\n",
    "\n",
    "* A method called `value(self)` which gets the current numeric value of the `SetNumber` (eg. the number of object in it's set)\n",
    "\n",
    "Example:\n",
    "```python\n",
    "sn = SetNumber({1,2,3})\n",
    "sn.value() --> 3\n",
    "\n",
    "sn + {2,3,4} = a SetNumber with value 4\n",
    "sn + {1,2,3} = a SetNumber with value 3\n",
    "sn + {4,5,6} = a SetNumber with value 6\n",
    "\n",
    "sn - {4,5,6} = a SetNumber with value 3\n",
    "sn - {1,2,3} = a SetNumber with value 0\n",
    "```"
   ]
  },
  {
   "cell_type": "code",
   "execution_count": 5,
   "metadata": {},
   "outputs": [],
   "source": [
    "# SetNumber should be a subclass of Set\n",
    "\n",
    "class SetNumber(set):\n",
    "    def __init__(self, initial):\n",
    "        self.initial = initial\n",
    "        \n",
    "    def __add__(self, x):\n",
    "        return len(self.initial.union(x))\n",
    "\n",
    "    def __sub__(self, x):\n",
    "        return len(self.initial.difference(x))\n",
    "    \n",
    "    def value(self):\n",
    "        return len(self)\n"
   ]
  },
  {
   "cell_type": "code",
   "execution_count": 6,
   "metadata": {},
   "outputs": [
    {
     "name": "stdout",
     "output_type": "stream",
     "text": [
      "4\n",
      "3\n",
      "6\n",
      "3\n",
      "0\n"
     ]
    }
   ],
   "source": [
    "# Test Scenarios & print result \n",
    "\n",
    "sn = SetNumber({1,2,3})\n",
    "print(sn + {2,3,4}) #= a SetNumber with value 4\n",
    "print(sn + {1,2,3}) #= a SetNumber with value 3\n",
    "print(sn + {4,5,6}) #= a SetNumber with value 6\n",
    "\n",
    "print(sn - {4,5,6}) #= a SetNumber with value 3\n",
    "print(sn - {1,2,3}) #= a SetNumber with value 0"
   ]
  },
  {
   "cell_type": "markdown",
   "metadata": {},
   "source": [
    "# 2d Point Class\n",
    "\n",
    "Write the definition of a Point class. Objects from this class should have a\n",
    "\n",
    "- a method `show()` to display the coordinates of the point\n",
    "- a method `move(x,y)` to shift these coordinates\n",
    "- a method `dist(point)` that computes the distance between 2 points.\n",
    "\n",
    "### Note\n",
    "\n",
    "the **euclidean distance** between 2 points A(x0, y0) and B(x1, y1) can be computed by:\n",
    "  \n",
    "  $$ d(AB)=\\sqrt{(x_1−x_0)^2+(y_1−y_0)^2} $$\n",
    "\n",
    "The following python code provides an example of the expected behaviour of objects belonging to this class:\n",
    "\n",
    "```\n",
    ">>> p1 = Point(2, 3)\n",
    ">>> p2 = Point(3, 3)\n",
    ">>> p1.show()\n",
    "(2, 3)\n",
    ">>> p2.show()\n",
    "(3, 3)\n",
    ">>> p1.move(10, -10)\n",
    ">>> p1.show()\n",
    "(12, -7)\n",
    ">>> p2.show()\n",
    "(3, 3)\n",
    ">>> p1.dist(p2)\n",
    "1.0\n",
    "```\n"
   ]
  },
  {
   "cell_type": "code",
   "execution_count": 7,
   "metadata": {},
   "outputs": [],
   "source": [
    "class Point():\n",
    "    def __init__(self, x0, y0):\n",
    "        self.x0 = x0\n",
    "        self.y0 = y0\n",
    "        \n",
    "    def show(self):\n",
    "        return ((self.x0,self.y0))\n",
    "\n",
    "    def move(self, x1, y1):\n",
    "        self.x0 += x1\n",
    "        self.y0 += y1\n",
    "        \n",
    "    def dist(self, p2):\n",
    "        return ((p2.x0-self.x0)**2+(p2.y0-self.y0)**2)**0.5\n"
   ]
  },
  {
   "cell_type": "code",
   "execution_count": 8,
   "metadata": {},
   "outputs": [
    {
     "name": "stdout",
     "output_type": "stream",
     "text": [
      "(2, 3)\n",
      "(3, 3)\n",
      "(12, -7)\n",
      "(3, 3)\n"
     ]
    },
    {
     "data": {
      "text/plain": [
       "1.0"
      ]
     },
     "execution_count": 8,
     "metadata": {},
     "output_type": "execute_result"
    }
   ],
   "source": [
    "# Test Scenarios & print result \n",
    "\n",
    "p1 = Point(2, 3)\n",
    "p2 = Point(3, 3)\n",
    "\n",
    "print(p1.show())\n",
    "print(p2.show())\n",
    "p1.move(10, -10)\n",
    "print(p1.show())\n",
    "print(p2.show())\n",
    "\n",
    "p1 = Point(2, 3)\n",
    "p2 = Point(3, 3)\n",
    "\n",
    "p1.dist(p2)"
   ]
  },
  {
   "cell_type": "markdown",
   "metadata": {},
   "source": [
    "# Rational Number\n",
    "\n",
    "Make a class that represents a [Rational Number](https://en.wikipedia.org/wiki/Rational_number). The rational number takes as input two integers and represents them as a number which is a fraction.\n",
    "\n",
    "You will need:\n",
    "\n",
    "- A creation rountine taking in two integers and initializing the Rational Number\n",
    "\n",
    "- A functionality where printing the rational number prints it as a clean string in the format `\"a / b\"`\n",
    "\n",
    "- An addition/substraction/multiplication/division method defined on other rational numbers\n",
    "\n",
    "    - These only need to be defined on other rational numbers!\n",
    "\n",
    "    - The result needs to be another `RationalNumber` object\n",
    "\n",
    "```\n",
    ">>> a = RationalNumber(1, 2)\n",
    ">>> b = RationalNumber(1, 3)\n",
    ">>> a\n",
    "1 / 2\n",
    ">>> a + b\n",
    "5/6\n",
    ">>> a - b\n",
    "1/6\n",
    ">>> a * b\n",
    "1/6\n",
    ">>> a/b\n",
    "3/2\n",
    "```"
   ]
  },
  {
   "cell_type": "code",
   "execution_count": 9,
   "metadata": {},
   "outputs": [],
   "source": [
    "class RationalNumber():\n",
    "    def __init__(self, int1, int2):\n",
    "        self.int1 = int1\n",
    "        self.int2 = int2\n",
    "        print (f\"{self.int1} / {self.int2}\")\n",
    "        \n",
    "    def __add__(self, b):\n",
    "        print(f\"{((self.int1*b.int2)+(self.int2*b.int1))} / {self.int2*b.int2}\")\n",
    "\n",
    "    def __sub__(self, x):\n",
    "        print(f\"{((self.int1*b.int2)-(self.int2*b.int1))} / {self.int2*b.int2}\")\n",
    "\n",
    "    def __mul__(self, x):\n",
    "        print(f\"{(self.int1*b.int1)} / {self.int2*b.int2}\")\n",
    "\n",
    "    def __truediv__(self, x):\n",
    "        print(f\"{(self.int1*b.int2)} / {self.int2*b.int1}\") \n",
    "    "
   ]
  },
  {
   "cell_type": "code",
   "execution_count": 10,
   "metadata": {},
   "outputs": [
    {
     "name": "stdout",
     "output_type": "stream",
     "text": [
      "1 / 2\n",
      "1 / 3\n",
      "5 / 6\n",
      "1 / 6\n",
      "1 / 6\n",
      "3 / 2\n"
     ]
    }
   ],
   "source": [
    "a = RationalNumber(1, 2)\n",
    "b = RationalNumber(1, 3)\n",
    "\n",
    "a+b\n",
    "a-b\n",
    "a*b\n",
    "a/b"
   ]
  },
  {
   "cell_type": "markdown",
   "metadata": {
    "colab": {},
    "colab_type": "code",
    "id": "CiHuObmJdo0h"
   },
   "source": [
    "# 4. Deck of Cards\n",
    "\n",
    "Create a deck of cards class. \n",
    "\n",
    "Internally, the deck of cards should use another class, a card class. \n",
    "\n",
    "Your requirements are:\n",
    "\n",
    "- The Deck class should have a deal method to deal a single card from the deck\n",
    "- After a card is dealt, it is removed from the deck.\n",
    "    - If no cards remain in the deck and we try to deal, it should raise an exception\n",
    "- There should be a shuffle method which makes sure the deck of cards has all 52 cards and then rearranges them randomly.\n",
    "    - If there are fewer than 52 cards, an exception should be raised\n",
    "- The Card class should have a suit (Hearts, Diamonds, Clubs, Spades) and a value (A,2,3,4,5,6,7,8,9,10,J,Q,K)\n",
    "\n",
    "```\n",
    ">>> c = Card(suit='Hearts', value='K')\n",
    ">>> c\n",
    "\"K of Hearts\"\n",
    ">>> d = Deck()\n",
    ">>> d\n",
    "\"Cards remaining in deck: 52\"\n",
    "\n",
    "# Deck is not shuffled -- deals cards consecutively:\n",
    "\n",
    ">>> d.deal()\n",
    "\"K of Spades\"\n",
    ">>> d.deal()\n",
    "\"Q of Spades\"\n",
    ">>> d.deal()\n",
    "\"J of Spades\"\n",
    ">>> d\n",
    "\"Cards remaining in deck: 49\"\n",
    "\n",
    "# We dealt 3 cards, 49 remain\n",
    "# Can't shuffle deck that's not full:\n",
    "\n",
    ">>> d.shuffle()\n",
    "ValueError: Only full decks can be shuffled\n",
    "\n",
    "# You can shuffle full decks \n",
    ">>> d = Deck()\n",
    ">>> d.shuffle()\n",
    "\n",
    "# Now it deals random cards\n",
    "\n",
    ">>> d.deal()\n",
    "\"2 of Hearts\"\n",
    "\n",
    "```"
   ]
  },
  {
   "cell_type": "code",
   "execution_count": 11,
   "metadata": {},
   "outputs": [],
   "source": [
    "import random\n",
    "\n",
    "class Card():\n",
    "    def __init__(self,suit,value):\n",
    "        self.suit = suit\n",
    "        self.value = value\n",
    "        \n",
    "    def __repr__(self):\n",
    "        return f\"{self.value} of {self.suit}\"\n",
    "    \n",
    "class Deck(Card):\n",
    "    def __init__(self):\n",
    "        self.deck=[]\n",
    "        for s in ['Hearts', 'Diamonds', 'Clubs', 'Spades']:\n",
    "            for v in ['A','2','3','4','5','6','7','8','9','10','J','Q','K']:\n",
    "                self.deck.append(Card(s,v))\n",
    "        \n",
    "    def __repr__(self):\n",
    "        return f\"Cards remaining in deck: {len(self.deck)}\"\n",
    "    \n",
    "    def deal(self):\n",
    "        for i in range(len(self.deck)):\n",
    "            return self.deck.pop()\n",
    "\n",
    "    def shuffle(self):\n",
    "        if len(self.deck)==52:\n",
    "            random.shuffle(self.deck)\n",
    "        else:\n",
    "            print(\"Only full decks can be shuffled\")"
   ]
  },
  {
   "cell_type": "code",
   "execution_count": 12,
   "metadata": {},
   "outputs": [
    {
     "data": {
      "text/plain": [
       "K of Hearts"
      ]
     },
     "execution_count": 12,
     "metadata": {},
     "output_type": "execute_result"
    }
   ],
   "source": [
    "c = Card(suit='Hearts', value='K')\n",
    "c"
   ]
  },
  {
   "cell_type": "code",
   "execution_count": 13,
   "metadata": {},
   "outputs": [
    {
     "data": {
      "text/plain": [
       "Cards remaining in deck: 52"
      ]
     },
     "execution_count": 13,
     "metadata": {},
     "output_type": "execute_result"
    }
   ],
   "source": [
    "d = Deck()\n",
    "d"
   ]
  },
  {
   "cell_type": "code",
   "execution_count": 14,
   "metadata": {},
   "outputs": [
    {
     "name": "stdout",
     "output_type": "stream",
     "text": [
      "K of Spades\n",
      "Q of Spades\n",
      "J of Spades\n"
     ]
    },
    {
     "data": {
      "text/plain": [
       "Cards remaining in deck: 49"
      ]
     },
     "execution_count": 14,
     "metadata": {},
     "output_type": "execute_result"
    }
   ],
   "source": [
    "print(d.deal())\n",
    "print(d.deal())\n",
    "print(d.deal())\n",
    "d"
   ]
  },
  {
   "cell_type": "code",
   "execution_count": 15,
   "metadata": {},
   "outputs": [
    {
     "name": "stdout",
     "output_type": "stream",
     "text": [
      "Only full decks can be shuffled\n"
     ]
    }
   ],
   "source": [
    "d.shuffle()"
   ]
  },
  {
   "cell_type": "code",
   "execution_count": 16,
   "metadata": {},
   "outputs": [],
   "source": [
    "d = Deck()\n",
    "d.shuffle()"
   ]
  },
  {
   "cell_type": "code",
   "execution_count": 17,
   "metadata": {},
   "outputs": [
    {
     "data": {
      "text/plain": [
       "6 of Clubs"
      ]
     },
     "execution_count": 17,
     "metadata": {},
     "output_type": "execute_result"
    }
   ],
   "source": [
    "d.deal()"
   ]
  }
 ],
 "metadata": {
  "colab": {
   "collapsed_sections": [],
   "name": "Workshop: Python Types and Classes.ipynb",
   "provenance": []
  },
  "kernelspec": {
   "display_name": "Python 3",
   "language": "python",
   "name": "python3"
  },
  "language_info": {
   "codemirror_mode": {
    "name": "ipython",
    "version": 3
   },
   "file_extension": ".py",
   "mimetype": "text/x-python",
   "name": "python",
   "nbconvert_exporter": "python",
   "pygments_lexer": "ipython3",
   "version": "3.8.3"
  }
 },
 "nbformat": 4,
 "nbformat_minor": 4
}
